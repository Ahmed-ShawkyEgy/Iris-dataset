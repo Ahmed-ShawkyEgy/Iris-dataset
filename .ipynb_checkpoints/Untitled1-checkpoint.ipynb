{
 "cells": [
  {
   "cell_type": "markdown",
   "metadata": {},
   "source": [
    "<h1>Iris DataSet</h1>"
   ]
  },
  {
   "cell_type": "markdown",
   "metadata": {},
   "source": [
    "<h3>Loading the dataset</h3>"
   ]
  },
  {
   "cell_type": "markdown",
   "metadata": {},
   "source": [
    "<p>Load the iris dataset and its corresponding data and targets</p>"
   ]
  },
  {
   "cell_type": "code",
   "execution_count": 1,
   "metadata": {},
   "outputs": [],
   "source": [
    "from sklearn.datasets import load_iris\n",
    "iris = load_iris()"
   ]
  },
  {
   "cell_type": "code",
   "execution_count": 2,
   "metadata": {},
   "outputs": [],
   "source": [
    "# Load the data into the variable x\n",
    "X = iris.data\n",
    "\n",
    "# Load the target into the variable y\n",
    "y = iris.target"
   ]
  },
  {
   "cell_type": "markdown",
   "metadata": {},
   "source": [
    "Now we split the data into two sets, one for training and one for testing for later use "
   ]
  },
  {
   "cell_type": "code",
   "execution_count": 3,
   "metadata": {},
   "outputs": [],
   "source": [
    "from sklearn.model_selection  import train_test_split\n",
    "\n",
    "\n",
    "# use train/test split with different random_state values \n",
    "X_train, X_test, y_train, y_test = train_test_split(X, y, random_state=4, test_size=0.2)"
   ]
  },
  {
   "cell_type": "markdown",
   "metadata": {},
   "source": [
    "<h3>Learning data using LinearSVC Model </h3>"
   ]
  },
  {
   "cell_type": "markdown",
   "metadata": {},
   "source": [
    "<h5>Choosing paramaters using grid search</h5>"
   ]
  },
  {
   "cell_type": "markdown",
   "metadata": {},
   "source": [
    "<p>We are going to brute force the hyperparamaters of the LinearSVC model using the gridSearch class<br>First, we need to choose the set of hyper-paramaters for the grid to bruteforce upon<br>Then, we pass these paramters along with the model type to the grid class.</p>"
   ]
  },
  {
   "cell_type": "code",
   "execution_count": 11,
   "metadata": {},
   "outputs": [
    {
     "data": {
      "text/plain": [
       "GridSearchCV(cv=5, error_score='raise',\n",
       "       estimator=LinearSVC(C=1.0, class_weight=None, dual=True, fit_intercept=True,\n",
       "     intercept_scaling=1, loss='squared_hinge', max_iter=1000,\n",
       "     multi_class='ovr', penalty='l2', random_state=1, tol=0.0001,\n",
       "     verbose=0),\n",
       "       fit_params=None, iid=True, n_jobs=1,\n",
       "       param_grid={'C': [1, 10, 100, 300, 500, 700, 1000], 'tol': [0.0001, 1e-05, 1e-06]},\n",
       "       pre_dispatch='2*n_jobs', refit=True, return_train_score=True,\n",
       "       scoring='accuracy', verbose=0)"
      ]
     },
     "execution_count": 11,
     "metadata": {},
     "output_type": "execute_result"
    }
   ],
   "source": [
    "from sklearn.model_selection import GridSearchCV\n",
    "from sklearn.svm import LinearSVC\n",
    "import numpy as np\n",
    "\n",
    "\n",
    "# choose possible paramaters\n",
    "param_grid = \n",
    "{\n",
    "               \n",
    "    'C':[1,10,100,300,500,700,1000],\n",
    "    'tol':[1e-4,1e-5,1e-6]\n",
    "}\n",
    "\n",
    "# instantiate the grid\n",
    "# the cv param indicates the number of folds and the scoring param indicates the scoring stratetgy\n",
    "grid = GridSearchCV(LinearSVC(random_state=1), param_grid, cv=5, scoring='accuracy', return_train_score=True)\n",
    "\n",
    "\n",
    "# fit the grid with data\n",
    "# note that we don't need to do any splitting since the gridSearch does that for us\n",
    "grid.fit(X_train, y_train)"
   ]
  },
  {
   "cell_type": "markdown",
   "metadata": {},
   "source": [
    "<p>Next, we print out the results</p>"
   ]
  },
  {
   "cell_type": "code",
   "execution_count": 12,
   "metadata": {},
   "outputs": [
    {
     "name": "stdout",
     "output_type": "stream",
     "text": [
      "mean_test_score: [ 0.96666667  0.96666667  0.96666667  0.96666667  0.96666667  0.96666667\n",
      "  0.90833333  0.91666667  0.91666667  0.95833333  0.95        0.93333333\n",
      "  0.90833333  0.94166667  0.95        0.93333333  0.94166667  0.94166667\n",
      "  0.95833333  0.95        0.95833333] \n",
      "\n",
      "std_test_score: [ 0.0305248   0.0305248   0.0305248   0.0302765   0.01670286  0.01670286\n",
      "  0.04983063  0.04615009  0.06730671  0.04565677  0.06497863  0.06859529\n",
      "  0.07091534  0.04390372  0.03191739  0.0565301   0.04250604  0.03402365\n",
      "  0.03788649  0.0612471   0.03733256] \n",
      "\n",
      "mean_train_score: [ 0.97710391  0.97710391  0.97710391  0.98127057  0.97708198  0.98127057\n",
      "  0.93771387  0.95008501  0.94398535  0.95618285  0.94563461  0.94179418\n",
      "  0.93945085  0.96260648  0.96466834  0.96034952  0.97293724  0.95622536\n",
      "  0.95833107  0.95833243  0.96247581] \n",
      "\n",
      "std_train_score: [ 0.00771604  0.00771604  0.00771604  0.01209013  0.01531143  0.01209013\n",
      "  0.03619269  0.0200572   0.04141475  0.02036256  0.03971171  0.03307639\n",
      "  0.03878972  0.01900694  0.01532584  0.0203763   0.01057317  0.02234086\n",
      "  0.01614254  0.03423238  0.02251805]\n"
     ]
    }
   ],
   "source": [
    "# print the mean scores of the 12 different combinations of hyperparamaters over 10 folds\n",
    "\n",
    "print(\"mean_test_score:\",grid.cv_results_['mean_test_score'],'\\n')\n",
    "print(\"std_test_score:\",grid.cv_results_['std_test_score'],'\\n')\n",
    "print(\"mean_train_score:\",grid.cv_results_['mean_train_score'],'\\n')\n",
    "print(\"std_train_score:\",grid.cv_results_['std_train_score'])"
   ]
  },
  {
   "cell_type": "markdown",
   "metadata": {},
   "source": [
    "<p>Then we show the best hyper-paramaters for our model along with the best scores </p>"
   ]
  },
  {
   "cell_type": "code",
   "execution_count": 13,
   "metadata": {},
   "outputs": [
    {
     "name": "stdout",
     "output_type": "stream",
     "text": [
      "best paramaters :  {'C': 1, 'tol': 0.0001}\n",
      "best score :  0.966666666667\n"
     ]
    }
   ],
   "source": [
    "# print the best hyper-paramaters\n",
    "print(\"best paramaters : \" ,grid.best_params_)\n",
    "print(\"best score : \",grid.best_score_)"
   ]
  },
  {
   "cell_type": "code",
   "execution_count": 14,
   "metadata": {},
   "outputs": [
    {
     "data": {
      "text/plain": [
       "0.93333333333333335"
      ]
     },
     "execution_count": 14,
     "metadata": {},
     "output_type": "execute_result"
    }
   ],
   "source": [
    "model = grid.best_estimator_\n",
    "model.score(X_test,y_test)"
   ]
  },
  {
   "cell_type": "markdown",
   "metadata": {},
   "source": [
    "<p>So the LinearSVC model has yeilded an accuracy rate of 93% on the test set</p>"
   ]
  },
  {
   "cell_type": "markdown",
   "metadata": {},
   "source": [
    "<h3>Learning data using SVC Model</h3>"
   ]
  },
  {
   "cell_type": "markdown",
   "metadata": {},
   "source": [
    "<p>Now we will try and see whether the SVC model would lead to better results</p>"
   ]
  },
  {
   "cell_type": "markdown",
   "metadata": {},
   "source": [
    "<p>We will repeat the whole process, and the only difference is the hyperparamaters given to the gridSearch instance.</p>"
   ]
  },
  {
   "cell_type": "code",
   "execution_count": 18,
   "metadata": {},
   "outputs": [
    {
     "data": {
      "text/plain": [
       "GridSearchCV(cv=10, error_score='raise',\n",
       "       estimator=SVC(C=1.0, cache_size=200, class_weight=None, coef0=0.0,\n",
       "  decision_function_shape='ovr', degree=3, gamma='auto', kernel='rbf',\n",
       "  max_iter=-1, probability=False, random_state=1, shrinking=True,\n",
       "  tol=0.001, verbose=False),\n",
       "       fit_params=None, iid=True, n_jobs=1,\n",
       "       param_grid=[{'kernel': ['rbf'], 'gamma': [0.001, 0.0001], 'C': [1, 10, 100, 500, 1000]}, {'kernel': ['linear'], 'C': [1, 10, 100, 500, 1000]}],\n",
       "       pre_dispatch='2*n_jobs', refit=True, return_train_score=True,\n",
       "       scoring='accuracy', verbose=0)"
      ]
     },
     "execution_count": 18,
     "metadata": {},
     "output_type": "execute_result"
    }
   ],
   "source": [
    "from sklearn.svm import SVC\n",
    "\n",
    "# choose possible paramaters\n",
    "param_grid = [{'kernel': ['rbf'], 'gamma': [1e-3, 1e-4],\n",
    "                     'C': [1, 10, 100,500, 1000]},\n",
    "                    {'kernel': ['linear'], 'C': [1, 10, 100,500, 1000]}]\n",
    "\n",
    "# instantiate the grid\n",
    "# the cv param indicates the number of folds and the scoring param indicates the scoring stratetgy\n",
    "grid = GridSearchCV(SVC(random_state=1), param_grid, cv=10, scoring='accuracy', return_train_score=True)\n",
    "\n",
    "\n",
    "# fit the grid with data\n",
    "grid.fit(X_train, y_train)"
   ]
  },
  {
   "cell_type": "code",
   "execution_count": 19,
   "metadata": {},
   "outputs": [
    {
     "name": "stdout",
     "output_type": "stream",
     "text": [
      "best paramaters :  {'C': 500, 'gamma': 0.001, 'kernel': 'rbf'}\n",
      "best score :  0.983333333333\n"
     ]
    }
   ],
   "source": [
    "# print the best hyper-paramaters\n",
    "print(\"best paramaters : \" ,grid.best_params_)\n",
    "print(\"best score : \",grid.best_score_)"
   ]
  },
  {
   "cell_type": "code",
   "execution_count": 20,
   "metadata": {},
   "outputs": [
    {
     "data": {
      "text/plain": [
       "0.96666666666666667"
      ]
     },
     "execution_count": 20,
     "metadata": {},
     "output_type": "execute_result"
    }
   ],
   "source": [
    "model = grid.best_estimator_\n",
    "model.score(X_test,y_test)"
   ]
  },
  {
   "cell_type": "markdown",
   "metadata": {},
   "source": [
    "<p>The SVC model has scored a better rate of 96.7% accuracy on the same test set that the linearSVC model has been tested on</p>"
   ]
  }
 ],
 "metadata": {
  "kernelspec": {
   "display_name": "Python 3",
   "language": "python",
   "name": "python3"
  },
  "language_info": {
   "codemirror_mode": {
    "name": "ipython",
    "version": 3
   },
   "file_extension": ".py",
   "mimetype": "text/x-python",
   "name": "python",
   "nbconvert_exporter": "python",
   "pygments_lexer": "ipython3",
   "version": "3.6.4"
  }
 },
 "nbformat": 4,
 "nbformat_minor": 2
}
